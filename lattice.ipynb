{
 "cells": [
  {
   "cell_type": "code",
   "execution_count": 10,
   "id": "7704c23a",
   "metadata": {},
   "outputs": [],
   "source": [
    "from pymatgen.ext.matproj import MPRester\n",
    "from pymatgen.core.lattice import Lattice as L\n",
    "from pymatgen import Structure\n",
    "from pymatgen.symmetry.analyzer import SpacegroupAnalyzer\n",
    "\n",
    "\n",
    "with MPRester(\"dbETTzBnFOmjGseN\") as m:\n",
    "\n",
    "    structure = m.get_structure_by_material_id(\"mp-861937\")\n",
    "    structure.to(filename=\"Ba2AsAu.cif\")\n",
    "    \n"
   ]
  },
  {
   "cell_type": "code",
   "execution_count": 17,
   "id": "bb26cb03",
   "metadata": {},
   "outputs": [
    {
     "name": "stdout",
     "output_type": "stream",
     "text": [
      "Vecteurs de base du réseau direct: 0.000000 4.033472 4.033472\n",
      "4.033472 0.000000 4.033472\n",
      "4.033472 4.033472 0.000000\n",
      "Paramètres de maille: (5.704190805852132, 5.704190805852132, 5.704190805852132)\n",
      "Angles de la maille: (60.00000000000001, 60.00000000000001, 60.00000000000001)\n"
     ]
    }
   ],
   "source": [
    "print(\"Vecteurs de base du réseau direct: \" + str(structure.lattice)) #The components of the 3 vectors a,b and c\n",
    "print(\"Paramètres de maille: \" + str(structure.lattice.abc)) #The lattice parameters (norm of a, b and c)\n",
    "print(\"Angles de la maille: \" + str(structure.lattice.angles)) #The lattice angles alpha, beta and gamma"
   ]
  },
  {
   "cell_type": "code",
   "execution_count": 18,
   "id": "6d76b62b",
   "metadata": {},
   "outputs": [
    {
     "name": "stdout",
     "output_type": "stream",
     "text": [
      "-0.778880 0.778880 0.778880\n",
      "0.778880 -0.778880 0.778880\n",
      "0.778880 0.778880 -0.778880\n",
      "Paramètres de maille: (1.3490605842070191, 1.3490605842070191, 1.3490605842070191)\n",
      "Angles de la maille: (109.47122063449069, 109.47122063449069, 109.47122063449069)\n"
     ]
    }
   ],
   "source": [
    "print(\"Vecteurs de base du réseau direct: \" + str(structure.lattice.reciprocal_lattice))\n",
    "print(\"Paramètres de maille: \" + str(structure.lattice.reciprocal_lattice.abc))\n",
    "print(\"Angles de la maille: \" + str(structure.lattice.reciprocal_lattice.angles)) #Exact same things for the reciprocal lattice"
   ]
  },
  {
   "cell_type": "code",
   "execution_count": 13,
   "id": "922f4299",
   "metadata": {},
   "outputs": [
    {
     "name": "stdout",
     "output_type": "stream",
     "text": [
      "Type de maille : cubic\n",
      "Système cristallin : cubic\n",
      "Groupe ponctuel : m-3m\n"
     ]
    }
   ],
   "source": [
    "print(\"Type de maille :\",SpacegroupAnalyzer(structure).get_lattice_type())\n",
    "print(\"Système cristallin :\",SpacegroupAnalyzer(structure).get_crystal_system())\n",
    "print(\"Groupe ponctuel :\",SpacegroupAnalyzer(structure).get_point_group_symbol())"
   ]
  },
  {
   "cell_type": "code",
   "execution_count": null,
   "id": "e7541775",
   "metadata": {},
   "outputs": [],
   "source": []
  }
 ],
 "metadata": {
  "kernelspec": {
   "display_name": "Python 3",
   "language": "python",
   "name": "python3"
  },
  "language_info": {
   "codemirror_mode": {
    "name": "ipython",
    "version": 3
   },
   "file_extension": ".py",
   "mimetype": "text/x-python",
   "name": "python",
   "nbconvert_exporter": "python",
   "pygments_lexer": "ipython3",
   "version": "3.6.8"
  }
 },
 "nbformat": 4,
 "nbformat_minor": 5
}
