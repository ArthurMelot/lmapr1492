{
 "cells": [
  {
   "cell_type": "code",
   "execution_count": 1,
   "id": "b5354494",
   "metadata": {},
   "outputs": [],
   "source": [
    "from pymatgen.ext.matproj import MPRester\n",
    "from pymatgen import Structure\n",
    "from jupyter_jsmol.pymatgen import quick_view"
   ]
  },
  {
   "cell_type": "code",
   "execution_count": 2,
   "id": "2579ffc4",
   "metadata": {},
   "outputs": [],
   "source": [
    "with MPRester(\"dbETTzBnFOmjGseN\") as m:\n",
    "    structure = m.get_structure_by_material_id(\"mp-861937\")\n",
    "    structure.to(filename=\"Ba2AsAu.cif\")"
   ]
  },
  {
   "cell_type": "code",
   "execution_count": 3,
   "id": "8abc2d3c",
   "metadata": {},
   "outputs": [
    {
     "data": {
      "application/vnd.jupyter.widget-view+json": {
       "model_id": "9d07ca1e77324179b7b43a3a33768c02",
       "version_major": 2,
       "version_minor": 0
      },
      "text/plain": [
       "JsmolView(layout=Layout(align_self='stretch', height='400px'))"
      ]
     },
     "metadata": {},
     "output_type": "display_data"
    }
   ],
   "source": [
    "view = quick_view(structure)\n",
    "display(view)"
   ]
  },
  {
   "cell_type": "code",
   "execution_count": 4,
   "id": "2b026499",
   "metadata": {},
   "outputs": [],
   "source": [
    "view.script('draw SYMOP \"x+1/2,y+1/2,z+1/2\" {atomno=1}') "
   ]
  },
  {
   "cell_type": "markdown",
   "id": "f515e381",
   "metadata": {},
   "source": [
    "Symétrie 1: Symétrie de translation\n",
    "<br>\n",
    "Équation: (x,y,z)->(x+1/2,y+1/2,z+1/2).\n",
    "<br>\n",
    "L'atome de baryum le plus proche de l'origine est soumis à une translation suivant le vecteur (1/2,1/2,1/2), ses coordonnées passent de (0.25,0.25,0.25) à (0.75,0.75,0.75), correspondant au second atome de baryum."
   ]
  },
  {
   "cell_type": "code",
   "execution_count": 5,
   "id": "8b5aff6a",
   "metadata": {},
   "outputs": [],
   "source": [
    "view.script('draw SYMOP \"-x,y,z\" {atomno=2}')"
   ]
  },
  {
   "cell_type": "markdown",
   "id": "b5bf1e2d",
   "metadata": {},
   "source": [
    "Symétrie 2: Symétrie ponctuelle\n",
    "<br>\n",
    "Équation: (x,y,z)->(-x,y,z).\n",
    "<br>\n",
    "Il s'agit d'une réflexion par apport au plan (2,1,1), les coordonnées de l'atome d'arsenic passent de (0.5,0.5,0.5) à (-0.5,0.5,0.5).\n"
   ]
  },
  {
   "cell_type": "code",
   "execution_count": 6,
   "id": "7db79d45",
   "metadata": {},
   "outputs": [],
   "source": [
    "view.script('draw SYMOP \"-x,-y,-z\" {atomno=5}')"
   ]
  },
  {
   "cell_type": "markdown",
   "id": "723db31e",
   "metadata": {},
   "source": [
    "Symétrie 3: Symétrie ponctuelle\n",
    "<br>\n",
    "Équation: (x,y,z)->(-x,-y,-z).\n",
    "<br>\n",
    "Il s'agit d'une inversion par rapport à l'origine. Les coordonnées de l'atome d'or situé en (1,1,1) deviennent (-1,-1,-1). Cet atome étant hors de la maille, on peut le ramner à l'atome situé en (0,0,0) par translation dans la maille initiale."
   ]
  }
 ],
 "metadata": {
  "kernelspec": {
   "display_name": "Python 3",
   "language": "python",
   "name": "python3"
  },
  "language_info": {
   "codemirror_mode": {
    "name": "ipython",
    "version": 3
   },
   "file_extension": ".py",
   "mimetype": "text/x-python",
   "name": "python",
   "nbconvert_exporter": "python",
   "pygments_lexer": "ipython3",
   "version": "3.6.8"
  }
 },
 "nbformat": 4,
 "nbformat_minor": 5
}
